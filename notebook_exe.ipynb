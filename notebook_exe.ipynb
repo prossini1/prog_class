{
 "cells": [
  {
   "cell_type": "code",
   "execution_count": 2,
   "metadata": {},
   "outputs": [
    {
     "name": "stdout",
     "output_type": "stream",
     "text": [
      "Hello World\n"
     ]
    }
   ],
   "source": [
    "# start using jupiter notebook\n",
    "print ('Hello World')"
   ]
  },
  {
   "cell_type": "code",
   "execution_count": 42,
   "metadata": {},
   "outputs": [
    {
     "name": "stdout",
     "output_type": "stream",
     "text": [
      "I have 78 boxes to move\n",
      "reminder is  1\n"
     ]
    }
   ],
   "source": [
    "# print multiple items: strings and numbers\n",
    "print(\"I have\", 78, \"boxes to move\")\n",
    "# print(\"reminder is \", 10 % 3) # % is the modulus operator \n",
    "# QUESTION which rol is playing % here?"
   ]
  },
  {
   "cell_type": "code",
   "execution_count": 32,
   "metadata": {},
   "outputs": [
    {
     "name": "stdout",
     "output_type": "stream",
     "text": [
      "There are 50 cars and remain only 15 sits available.\n",
      "There are 50 cars and remain only 15 sits available.\n"
     ]
    }
   ],
   "source": [
    "# Python as a calculator\n",
    "cars = 50\n",
    "sits_per_car = 4\n",
    "carpool_capacity = cars * sits_per_car\n",
    "passengers = 185\n",
    "sits_available = carpool_capacity - passengers\n",
    "\n",
    "# Multiple ways of printing the output\n",
    "print(\"There are\", cars, \"cars and remain only\", sits_available, \"sits available.\")\n",
    "print(\"There are \" + str(cars) + \" cars and remain only \" + str(sits_available) + \" sits available.\")\n"
   ]
  },
  {
   "cell_type": "code",
   "execution_count": 46,
   "metadata": {},
   "outputs": [
    {
     "name": "stdout",
     "output_type": "stream",
     "text": [
      "185\n",
      "15\n",
      "There are 50.000000 cars and remain only 15.000000 sits available.\n",
      "There are 50 cars and remain only 15 sits available.\n",
      "There are 50 cars and remain only 15 sits available\n"
     ]
    }
   ],
   "source": [
    "# continue\n",
    "print(passengers)\n",
    "print(sits_available)\n",
    "print(\"There are %f cars and remain only %f sits available.\" % (cars, sits_available))\n",
    "print(\"There are %d cars and remain only %d sits available.\" % (cars, sits_available))\n",
    "\n",
    "# %f and %d are defined within the string\n",
    "# percent symbol could be used to calcualte remainder, but also to indicate variables\n",
    "\n",
    "# Moder and best option\n",
    "print(\"There are {} cars and remain only {} sits available\" .format(cars, sits_available))"
   ]
  },
  {
   "cell_type": "code",
   "execution_count": 54,
   "metadata": {},
   "outputs": [
    {
     "name": "stdout",
     "output_type": "stream",
     "text": [
      "My height is 182.88 cm\n",
      "My height is 183 cm\n",
      "My height is 182.9 cm\n"
     ]
    }
   ],
   "source": [
    "# body height conversion\n",
    "\n",
    "height_in = 72\n",
    "height_cm = height_in * 2.54\n",
    "print(\"My height is\", height_cm,\"cm\")\n",
    "print(\"My height is\",round(height_cm),\"cm\")\n",
    "print(\"My height is\",round(height_cm,1),\"cm\")\n"
   ]
  },
  {
   "cell_type": "code",
   "execution_count": 56,
   "metadata": {},
   "outputs": [
    {
     "name": "stdout",
     "output_type": "stream",
     "text": [
      "3.7.1 (default, Dec 10 2018, 22:54:23) [MSC v.1915 64 bit (AMD64)]\n"
     ]
    }
   ],
   "source": [
    "# The system \"sys\", is one of the most common \n",
    "# sys has multiple functions (also know as methos)\n",
    "\n",
    "import sys\n",
    "print(sys.version)"
   ]
  },
  {
   "cell_type": "code",
   "execution_count": 58,
   "metadata": {},
   "outputs": [
    {
     "name": "stdout",
     "output_type": "stream",
     "text": [
      "C:\\Users\\Pedro Rossini\\Desktop\\Coding\\prog_class\n"
     ]
    }
   ],
   "source": [
    "# Another important module is the operating system module, that allow us \n",
    "# to know the current working directory (i.e. active directory)\n",
    "\n",
    "import os\n",
    "print(os.getcwd())"
   ]
  },
  {
   "cell_type": "code",
   "execution_count": 60,
   "metadata": {},
   "outputs": [
    {
     "data": {
      "text/plain": [
       "'prog_class'"
      ]
     },
     "execution_count": 60,
     "metadata": {},
     "output_type": "execute_result"
    }
   ],
   "source": [
    "# to simple know the folder in which the interpreter is located write:\n",
    "\n",
    "os.getcwd().split(os.sep)[-1]\n",
    "\n",
    "# The command is simply splitting the long string that we obtained before\n",
    "# at each back slashes. The [-1] is the pythonic way of calling for the last\n",
    "# element in an array, which is the case is our current folder.\n",
    "\n",
    "# QUESTION how we are working in the prog_class folder??"
   ]
  },
  {
   "cell_type": "code",
   "execution_count": 64,
   "metadata": {},
   "outputs": [
    {
     "data": {
      "text/plain": [
       "time.struct_time(tm_year=2019, tm_mon=1, tm_mday=26, tm_hour=19, tm_min=12, tm_sec=19, tm_wday=5, tm_yday=26, tm_isdst=0)"
      ]
     },
     "execution_count": 64,
     "metadata": {},
     "output_type": "execute_result"
    }
   ],
   "source": [
    "# We can also use the time module to obtain the current data and time\n",
    "\n",
    "import time\n",
    "time.localtime()\n"
   ]
  },
  {
   "cell_type": "code",
   "execution_count": 70,
   "metadata": {},
   "outputs": [
    {
     "name": "stdout",
     "output_type": "stream",
     "text": [
      "Executing step 1\n",
      "Executing step 2\n",
      "Executing step 3\n",
      "See, they were printed sequentially!\n"
     ]
    }
   ],
   "source": [
    "# the importance of synchronous\n",
    "# print steps\n",
    "\n",
    "print(\"Executing step 1\")\n",
    "print(\"Executing step 2\")\n",
    "print(\"Executing step 3\")\n",
    "print(\"See, they were printed sequentially!\")"
   ]
  },
  {
   "cell_type": "code",
   "execution_count": 72,
   "metadata": {},
   "outputs": [
    {
     "name": "stdout",
     "output_type": "stream",
     "text": [
      "Executing step 1\n",
      "Executing step 2\n"
     ]
    }
   ],
   "source": [
    "# applaying a time delay\n",
    "\n",
    "print('Executing step 1')\n",
    "time.sleep(5) # in seconds\n",
    "print('Executing step 2')"
   ]
  },
  {
   "cell_type": "code",
   "execution_count": 78,
   "metadata": {},
   "outputs": [
    {
     "name": "stdout",
     "output_type": "stream",
     "text": [
      "7\n",
      "-1\n",
      "12\n",
      "5.0\n",
      "4\n",
      "2\n"
     ]
    }
   ],
   "source": [
    "# simple aritmetic operations\n",
    "\n",
    "c = 3\n",
    "print(c + 4)\n",
    "print(c - 4)\n",
    "print(c * 4)\n",
    "\n",
    "print(10 / 2)\n",
    "print(2**2) # ** means elevado \"^\"\n",
    "print(10 % 4)\n",
    "# QUESTION what means %??"
   ]
  },
  {
   "cell_type": "code",
   "execution_count": null,
   "metadata": {},
   "outputs": [],
   "source": [
    "a = 10\n",
    "print(a + c)\n",
    "\n",
    "# problem\n",
    "# given two positive integers aa and bb\n",
    "# reteurn the integer corresponding to the square of the hypotenuse of the\n",
    "# rigth triangle. Whose legs have lenght aa and bb\n",
    "\n",
    "\n",
    "\n",
    "aa = 3\n",
    "bb = 5\n",
    "\n",
    "# a^2 = b^2 + c^2 \n",
    "hypotenuse = aa**2 + bb**2\n",
    "print(hypotenuse)\n"
   ]
  }
 ],
 "metadata": {
  "kernelspec": {
   "display_name": "Python 3",
   "language": "python",
   "name": "python3"
  },
  "language_info": {
   "codemirror_mode": {
    "name": "ipython",
    "version": 3
   },
   "file_extension": ".py",
   "mimetype": "text/x-python",
   "name": "python",
   "nbconvert_exporter": "python",
   "pygments_lexer": "ipython3",
   "version": "3.7.1"
  }
 },
 "nbformat": 4,
 "nbformat_minor": 2
}
